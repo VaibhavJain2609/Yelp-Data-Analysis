{
 "cells": [
  {
   "cell_type": "code",
   "execution_count": 22,
   "metadata": {},
   "outputs": [],
   "source": [
    "from collections.abc import Sequence\n",
    "from sklearn import preprocessing\n",
    "import matplotlib.pyplot as plt\n",
    "import numpy as np\n",
    "import pandas as pd\n",
    "import shutil\n",
    "import os\n",
    "\n",
    "\n",
    "# Encode text values to dummy variables(i.e. [1,0,0],[0,1,0],[0,0,1] for red,green,blue)\n",
    "def encode_text_dummy(df, name):\n",
    "    dummies = pd.get_dummies(df[name])\n",
    "    for x in dummies.columns:\n",
    "        dummy_name = \"{}-{}\".format(name, x)\n",
    "        df[dummy_name] = dummies[x]\n",
    "    df.drop(name, axis=1, inplace=True)\n",
    "\n",
    "\n",
    "# Encode text values to indexes(i.e. [1],[2],[3] for red,green,blue).\n",
    "def encode_text_index(df, name):\n",
    "    le = preprocessing.LabelEncoder()\n",
    "    df[name] = le.fit_transform(df[name])\n",
    "    return le.classes_\n",
    "\n",
    "\n",
    "# Encode a numeric column as zscores\n",
    "def encode_numeric_zscore(df, name, mean=None, sd=None):\n",
    "    if mean is None:\n",
    "        mean = df[name].mean()\n",
    "\n",
    "    if sd is None:\n",
    "        sd = df[name].std()\n",
    "\n",
    "    df[name] = (df[name] - mean) / sd\n",
    "\n",
    "\n",
    "# Convert all missing values in the specified column to the median\n",
    "def missing_median(df, name):\n",
    "    med = df[name].median()\n",
    "    df[name] = df[name].fillna(med)\n",
    "\n",
    "\n",
    "# Convert all missing values in the specified column to the default\n",
    "def missing_default(df, name, default_value):\n",
    "    df[name] = df[name].fillna(default_value)\n",
    "\n",
    "\n",
    "# Convert a Pandas dataframe to the x,y inputs that TensorFlow needs\n",
    "def to_xy(df, target):\n",
    "    result = []\n",
    "    for x in df.columns:\n",
    "        if x != target:\n",
    "            result.append(x)\n",
    "    # find out the type of the target column. \n",
    "    target_type = df[target].dtypes\n",
    "    target_type = target_type[0] if isinstance(target_type, Sequence) else target_type\n",
    "    # Encode to int for classification, float otherwise. TensorFlow likes 32 bits.\n",
    "    if target_type in (np.int64, np.int32):\n",
    "        # Classification\n",
    "        dummies = pd.get_dummies(df[target])\n",
    "        return df[result].values.astype(np.float32), dummies.values.astype(np.float32)\n",
    "    else:\n",
    "        # Regression\n",
    "        return df[result].values.astype(np.float32), df[target].values.astype(np.float32)\n",
    "\n",
    "# Nicely formatted time string\n",
    "def hms_string(sec_elapsed):\n",
    "    h = int(sec_elapsed / (60 * 60))\n",
    "    m = int((sec_elapsed % (60 * 60)) / 60)\n",
    "    s = sec_elapsed % 60\n",
    "    return \"{}:{:>02}:{:>05.2f}\".format(h, m, s)\n",
    "\n",
    "\n",
    "# Regression chart.\n",
    "def chart_regression(pred,y,sort=True):\n",
    "    t = pd.DataFrame({'pred' : pred, 'y' : y.flatten()})\n",
    "    if sort:\n",
    "        t.sort_values(by=['y'],inplace=True)\n",
    "    a = plt.plot(t['y'].tolist(),label='expected')\n",
    "    b = plt.plot(t['pred'].tolist(),label='prediction')\n",
    "    plt.ylabel('output')\n",
    "    plt.legend()\n",
    "    plt.show()\n",
    "\n",
    "# Remove all rows where the specified column is +/- sd standard deviations\n",
    "def remove_outliers(df, name, sd):\n",
    "    drop_rows = df.index[(np.abs(df[name] - df[name].mean()) >= (sd * df[name].std()))]\n",
    "    df.drop(drop_rows, axis=0, inplace=True)\n",
    "\n",
    "\n",
    "# Encode a column to a range between normalized_low and normalized_high.\n",
    "def encode_numeric_range(df, name, normalized_low=-1, normalized_high=1,\n",
    "                         data_low=None, data_high=None):\n",
    "    if data_low is None:\n",
    "        data_low = min(df[name])\n",
    "        data_high = max(df[name])\n",
    "\n",
    "    df[name] = ((df[name] - data_low) / (data_high - data_low)) * (normalized_high - normalized_low) + normalized_low\n"
   ]
  },
  {
   "cell_type": "code",
   "execution_count": 2,
   "metadata": {},
   "outputs": [],
   "source": [
    "business = pd.read_json('yelp/yelp_academic_dataset_business.json', lines=True, nrows=1000000)"
   ]
  },
  {
   "cell_type": "code",
   "execution_count": 3,
   "metadata": {},
   "outputs": [
    {
     "data": {
      "text/plain": [
       "(150346, 14)"
      ]
     },
     "execution_count": 3,
     "metadata": {},
     "output_type": "execute_result"
    }
   ],
   "source": [
    "business.shape"
   ]
  },
  {
   "cell_type": "code",
   "execution_count": 4,
   "metadata": {},
   "outputs": [
    {
     "data": {
      "text/html": [
       "<div>\n",
       "<style scoped>\n",
       "    .dataframe tbody tr th:only-of-type {\n",
       "        vertical-align: middle;\n",
       "    }\n",
       "\n",
       "    .dataframe tbody tr th {\n",
       "        vertical-align: top;\n",
       "    }\n",
       "\n",
       "    .dataframe thead th {\n",
       "        text-align: right;\n",
       "    }\n",
       "</style>\n",
       "<table border=\"1\" class=\"dataframe\">\n",
       "  <thead>\n",
       "    <tr style=\"text-align: right;\">\n",
       "      <th></th>\n",
       "      <th>business_id</th>\n",
       "      <th>name</th>\n",
       "      <th>address</th>\n",
       "      <th>city</th>\n",
       "      <th>state</th>\n",
       "      <th>postal_code</th>\n",
       "      <th>latitude</th>\n",
       "      <th>longitude</th>\n",
       "      <th>stars</th>\n",
       "      <th>review_count</th>\n",
       "      <th>is_open</th>\n",
       "      <th>attributes</th>\n",
       "      <th>categories</th>\n",
       "      <th>hours</th>\n",
       "    </tr>\n",
       "  </thead>\n",
       "  <tbody>\n",
       "    <tr>\n",
       "      <th>0</th>\n",
       "      <td>Pns2l4eNsfO8kk83dixA6A</td>\n",
       "      <td>Abby Rappoport, LAC, CMQ</td>\n",
       "      <td>1616 Chapala St, Ste 2</td>\n",
       "      <td>Santa Barbara</td>\n",
       "      <td>CA</td>\n",
       "      <td>93101</td>\n",
       "      <td>34.426679</td>\n",
       "      <td>-119.711197</td>\n",
       "      <td>5.0</td>\n",
       "      <td>7</td>\n",
       "      <td>0</td>\n",
       "      <td>{'ByAppointmentOnly': 'True'}</td>\n",
       "      <td>Doctors, Traditional Chinese Medicine, Naturop...</td>\n",
       "      <td>None</td>\n",
       "    </tr>\n",
       "    <tr>\n",
       "      <th>1</th>\n",
       "      <td>mpf3x-BjTdTEA3yCZrAYPw</td>\n",
       "      <td>The UPS Store</td>\n",
       "      <td>87 Grasso Plaza Shopping Center</td>\n",
       "      <td>Affton</td>\n",
       "      <td>MO</td>\n",
       "      <td>63123</td>\n",
       "      <td>38.551126</td>\n",
       "      <td>-90.335695</td>\n",
       "      <td>3.0</td>\n",
       "      <td>15</td>\n",
       "      <td>1</td>\n",
       "      <td>{'BusinessAcceptsCreditCards': 'True'}</td>\n",
       "      <td>Shipping Centers, Local Services, Notaries, Ma...</td>\n",
       "      <td>{'Monday': '0:0-0:0', 'Tuesday': '8:0-18:30', ...</td>\n",
       "    </tr>\n",
       "    <tr>\n",
       "      <th>2</th>\n",
       "      <td>tUFrWirKiKi_TAnsVWINQQ</td>\n",
       "      <td>Target</td>\n",
       "      <td>5255 E Broadway Blvd</td>\n",
       "      <td>Tucson</td>\n",
       "      <td>AZ</td>\n",
       "      <td>85711</td>\n",
       "      <td>32.223236</td>\n",
       "      <td>-110.880452</td>\n",
       "      <td>3.5</td>\n",
       "      <td>22</td>\n",
       "      <td>0</td>\n",
       "      <td>{'BikeParking': 'True', 'BusinessAcceptsCredit...</td>\n",
       "      <td>Department Stores, Shopping, Fashion, Home &amp; G...</td>\n",
       "      <td>{'Monday': '8:0-22:0', 'Tuesday': '8:0-22:0', ...</td>\n",
       "    </tr>\n",
       "    <tr>\n",
       "      <th>3</th>\n",
       "      <td>MTSW4McQd7CbVtyjqoe9mw</td>\n",
       "      <td>St Honore Pastries</td>\n",
       "      <td>935 Race St</td>\n",
       "      <td>Philadelphia</td>\n",
       "      <td>PA</td>\n",
       "      <td>19107</td>\n",
       "      <td>39.955505</td>\n",
       "      <td>-75.155564</td>\n",
       "      <td>4.0</td>\n",
       "      <td>80</td>\n",
       "      <td>1</td>\n",
       "      <td>{'RestaurantsDelivery': 'False', 'OutdoorSeati...</td>\n",
       "      <td>Restaurants, Food, Bubble Tea, Coffee &amp; Tea, B...</td>\n",
       "      <td>{'Monday': '7:0-20:0', 'Tuesday': '7:0-20:0', ...</td>\n",
       "    </tr>\n",
       "    <tr>\n",
       "      <th>4</th>\n",
       "      <td>mWMc6_wTdE0EUBKIGXDVfA</td>\n",
       "      <td>Perkiomen Valley Brewery</td>\n",
       "      <td>101 Walnut St</td>\n",
       "      <td>Green Lane</td>\n",
       "      <td>PA</td>\n",
       "      <td>18054</td>\n",
       "      <td>40.338183</td>\n",
       "      <td>-75.471659</td>\n",
       "      <td>4.5</td>\n",
       "      <td>13</td>\n",
       "      <td>1</td>\n",
       "      <td>{'BusinessAcceptsCreditCards': 'True', 'Wheelc...</td>\n",
       "      <td>Brewpubs, Breweries, Food</td>\n",
       "      <td>{'Wednesday': '14:0-22:0', 'Thursday': '16:0-2...</td>\n",
       "    </tr>\n",
       "  </tbody>\n",
       "</table>\n",
       "</div>"
      ],
      "text/plain": [
       "              business_id                      name  \\\n",
       "0  Pns2l4eNsfO8kk83dixA6A  Abby Rappoport, LAC, CMQ   \n",
       "1  mpf3x-BjTdTEA3yCZrAYPw             The UPS Store   \n",
       "2  tUFrWirKiKi_TAnsVWINQQ                    Target   \n",
       "3  MTSW4McQd7CbVtyjqoe9mw        St Honore Pastries   \n",
       "4  mWMc6_wTdE0EUBKIGXDVfA  Perkiomen Valley Brewery   \n",
       "\n",
       "                           address           city state postal_code  \\\n",
       "0           1616 Chapala St, Ste 2  Santa Barbara    CA       93101   \n",
       "1  87 Grasso Plaza Shopping Center         Affton    MO       63123   \n",
       "2             5255 E Broadway Blvd         Tucson    AZ       85711   \n",
       "3                      935 Race St   Philadelphia    PA       19107   \n",
       "4                    101 Walnut St     Green Lane    PA       18054   \n",
       "\n",
       "    latitude   longitude  stars  review_count  is_open  \\\n",
       "0  34.426679 -119.711197    5.0             7        0   \n",
       "1  38.551126  -90.335695    3.0            15        1   \n",
       "2  32.223236 -110.880452    3.5            22        0   \n",
       "3  39.955505  -75.155564    4.0            80        1   \n",
       "4  40.338183  -75.471659    4.5            13        1   \n",
       "\n",
       "                                          attributes  \\\n",
       "0                      {'ByAppointmentOnly': 'True'}   \n",
       "1             {'BusinessAcceptsCreditCards': 'True'}   \n",
       "2  {'BikeParking': 'True', 'BusinessAcceptsCredit...   \n",
       "3  {'RestaurantsDelivery': 'False', 'OutdoorSeati...   \n",
       "4  {'BusinessAcceptsCreditCards': 'True', 'Wheelc...   \n",
       "\n",
       "                                          categories  \\\n",
       "0  Doctors, Traditional Chinese Medicine, Naturop...   \n",
       "1  Shipping Centers, Local Services, Notaries, Ma...   \n",
       "2  Department Stores, Shopping, Fashion, Home & G...   \n",
       "3  Restaurants, Food, Bubble Tea, Coffee & Tea, B...   \n",
       "4                          Brewpubs, Breweries, Food   \n",
       "\n",
       "                                               hours  \n",
       "0                                               None  \n",
       "1  {'Monday': '0:0-0:0', 'Tuesday': '8:0-18:30', ...  \n",
       "2  {'Monday': '8:0-22:0', 'Tuesday': '8:0-22:0', ...  \n",
       "3  {'Monday': '7:0-20:0', 'Tuesday': '7:0-20:0', ...  \n",
       "4  {'Wednesday': '14:0-22:0', 'Thursday': '16:0-2...  "
      ]
     },
     "execution_count": 4,
     "metadata": {},
     "output_type": "execute_result"
    }
   ],
   "source": [
    "business.head()"
   ]
  },
  {
   "cell_type": "code",
   "execution_count": 5,
   "metadata": {},
   "outputs": [],
   "source": [
    "reviews = pd.read_json('yelp/yelp_academic_dataset_review.json', lines=True, nrows=1000000)"
   ]
  },
  {
   "cell_type": "code",
   "execution_count": 6,
   "metadata": {},
   "outputs": [],
   "source": [
    "df_review_agg = reviews.groupby('business_id')['text'].sum()"
   ]
  },
  {
   "cell_type": "code",
   "execution_count": 7,
   "metadata": {},
   "outputs": [
    {
     "data": {
      "text/plain": [
       "business_id\n",
       "--ZVrH2X2QXBFdCilbirsw    This place is sadly perm closed. I was hoping ...\n",
       "--_9CAxgfXZmoFdNIRrhHA    It's a huge place. There's P.O. boxes big enou...\n",
       "--_lZuj_WCGnDG6n0emlRg    Good deals to be had on liquidated designer cl...\n",
       "--hF_3v1JmU9nlu4zfXJ8Q    Really excited to get healthier options on the...\n",
       "--sXnWH9Xm6_NvIjyuA99w    Ich war das erste mal in Philadelphia und ich ...\n",
       "Name: text, dtype: object"
      ]
     },
     "execution_count": 7,
     "metadata": {},
     "output_type": "execute_result"
    }
   ],
   "source": [
    "df_review_agg.head()"
   ]
  },
  {
   "cell_type": "code",
   "execution_count": 8,
   "metadata": {},
   "outputs": [
    {
     "data": {
      "text/plain": [
       "(27095,)"
      ]
     },
     "execution_count": 8,
     "metadata": {},
     "output_type": "execute_result"
    }
   ],
   "source": [
    "df_review_agg.shape"
   ]
  },
  {
   "cell_type": "code",
   "execution_count": 9,
   "metadata": {},
   "outputs": [],
   "source": [
    "df_ready_for_sklearn = pd.DataFrame({'business_id': df_review_agg.index, 'all_reviews':\n",
    "df_review_agg.values})"
   ]
  },
  {
   "cell_type": "code",
   "execution_count": 10,
   "metadata": {},
   "outputs": [
    {
     "data": {
      "text/html": [
       "<div>\n",
       "<style scoped>\n",
       "    .dataframe tbody tr th:only-of-type {\n",
       "        vertical-align: middle;\n",
       "    }\n",
       "\n",
       "    .dataframe tbody tr th {\n",
       "        vertical-align: top;\n",
       "    }\n",
       "\n",
       "    .dataframe thead th {\n",
       "        text-align: right;\n",
       "    }\n",
       "</style>\n",
       "<table border=\"1\" class=\"dataframe\">\n",
       "  <thead>\n",
       "    <tr style=\"text-align: right;\">\n",
       "      <th></th>\n",
       "      <th>business_id</th>\n",
       "      <th>all_reviews</th>\n",
       "    </tr>\n",
       "  </thead>\n",
       "  <tbody>\n",
       "    <tr>\n",
       "      <th>0</th>\n",
       "      <td>--ZVrH2X2QXBFdCilbirsw</td>\n",
       "      <td>This place is sadly perm closed. I was hoping ...</td>\n",
       "    </tr>\n",
       "    <tr>\n",
       "      <th>1</th>\n",
       "      <td>--_9CAxgfXZmoFdNIRrhHA</td>\n",
       "      <td>It's a huge place. There's P.O. boxes big enou...</td>\n",
       "    </tr>\n",
       "    <tr>\n",
       "      <th>2</th>\n",
       "      <td>--_lZuj_WCGnDG6n0emlRg</td>\n",
       "      <td>Good deals to be had on liquidated designer cl...</td>\n",
       "    </tr>\n",
       "    <tr>\n",
       "      <th>3</th>\n",
       "      <td>--hF_3v1JmU9nlu4zfXJ8Q</td>\n",
       "      <td>Really excited to get healthier options on the...</td>\n",
       "    </tr>\n",
       "    <tr>\n",
       "      <th>4</th>\n",
       "      <td>--sXnWH9Xm6_NvIjyuA99w</td>\n",
       "      <td>Ich war das erste mal in Philadelphia und ich ...</td>\n",
       "    </tr>\n",
       "  </tbody>\n",
       "</table>\n",
       "</div>"
      ],
      "text/plain": [
       "              business_id                                        all_reviews\n",
       "0  --ZVrH2X2QXBFdCilbirsw  This place is sadly perm closed. I was hoping ...\n",
       "1  --_9CAxgfXZmoFdNIRrhHA  It's a huge place. There's P.O. boxes big enou...\n",
       "2  --_lZuj_WCGnDG6n0emlRg  Good deals to be had on liquidated designer cl...\n",
       "3  --hF_3v1JmU9nlu4zfXJ8Q  Really excited to get healthier options on the...\n",
       "4  --sXnWH9Xm6_NvIjyuA99w  Ich war das erste mal in Philadelphia und ich ..."
      ]
     },
     "execution_count": 10,
     "metadata": {},
     "output_type": "execute_result"
    }
   ],
   "source": [
    "df_ready_for_sklearn.head()"
   ]
  },
  {
   "cell_type": "code",
   "execution_count": 11,
   "metadata": {},
   "outputs": [
    {
     "data": {
      "text/plain": [
       "(27095, 2)"
      ]
     },
     "execution_count": 11,
     "metadata": {},
     "output_type": "execute_result"
    }
   ],
   "source": [
    "df_ready_for_sklearn.shape"
   ]
  },
  {
   "cell_type": "code",
   "execution_count": 12,
   "metadata": {},
   "outputs": [],
   "source": [
    "business = business[business['review_count'] > 20]"
   ]
  },
  {
   "cell_type": "code",
   "execution_count": 13,
   "metadata": {},
   "outputs": [
    {
     "data": {
      "text/plain": [
       "(59699, 14)"
      ]
     },
     "execution_count": 13,
     "metadata": {},
     "output_type": "execute_result"
    }
   ],
   "source": [
    "business.shape\n"
   ]
  },
  {
   "cell_type": "code",
   "execution_count": 14,
   "metadata": {},
   "outputs": [
    {
     "data": {
      "text/html": [
       "<div>\n",
       "<style scoped>\n",
       "    .dataframe tbody tr th:only-of-type {\n",
       "        vertical-align: middle;\n",
       "    }\n",
       "\n",
       "    .dataframe tbody tr th {\n",
       "        vertical-align: top;\n",
       "    }\n",
       "\n",
       "    .dataframe thead th {\n",
       "        text-align: right;\n",
       "    }\n",
       "</style>\n",
       "<table border=\"1\" class=\"dataframe\">\n",
       "  <thead>\n",
       "    <tr style=\"text-align: right;\">\n",
       "      <th></th>\n",
       "      <th>business_id</th>\n",
       "      <th>name</th>\n",
       "      <th>address</th>\n",
       "      <th>city</th>\n",
       "      <th>state</th>\n",
       "      <th>postal_code</th>\n",
       "      <th>latitude</th>\n",
       "      <th>longitude</th>\n",
       "      <th>stars</th>\n",
       "      <th>review_count</th>\n",
       "      <th>is_open</th>\n",
       "      <th>attributes</th>\n",
       "      <th>categories</th>\n",
       "      <th>hours</th>\n",
       "    </tr>\n",
       "  </thead>\n",
       "  <tbody>\n",
       "    <tr>\n",
       "      <th>2</th>\n",
       "      <td>tUFrWirKiKi_TAnsVWINQQ</td>\n",
       "      <td>Target</td>\n",
       "      <td>5255 E Broadway Blvd</td>\n",
       "      <td>Tucson</td>\n",
       "      <td>AZ</td>\n",
       "      <td>85711</td>\n",
       "      <td>32.223236</td>\n",
       "      <td>-110.880452</td>\n",
       "      <td>3.5</td>\n",
       "      <td>22</td>\n",
       "      <td>0</td>\n",
       "      <td>{'BikeParking': 'True', 'BusinessAcceptsCredit...</td>\n",
       "      <td>Department Stores, Shopping, Fashion, Home &amp; G...</td>\n",
       "      <td>{'Monday': '8:0-22:0', 'Tuesday': '8:0-22:0', ...</td>\n",
       "    </tr>\n",
       "    <tr>\n",
       "      <th>3</th>\n",
       "      <td>MTSW4McQd7CbVtyjqoe9mw</td>\n",
       "      <td>St Honore Pastries</td>\n",
       "      <td>935 Race St</td>\n",
       "      <td>Philadelphia</td>\n",
       "      <td>PA</td>\n",
       "      <td>19107</td>\n",
       "      <td>39.955505</td>\n",
       "      <td>-75.155564</td>\n",
       "      <td>4.0</td>\n",
       "      <td>80</td>\n",
       "      <td>1</td>\n",
       "      <td>{'RestaurantsDelivery': 'False', 'OutdoorSeati...</td>\n",
       "      <td>Restaurants, Food, Bubble Tea, Coffee &amp; Tea, B...</td>\n",
       "      <td>{'Monday': '7:0-20:0', 'Tuesday': '7:0-20:0', ...</td>\n",
       "    </tr>\n",
       "    <tr>\n",
       "      <th>12</th>\n",
       "      <td>il_Ro8jwPlHresjw9EGmBg</td>\n",
       "      <td>Denny's</td>\n",
       "      <td>8901 US 31 S</td>\n",
       "      <td>Indianapolis</td>\n",
       "      <td>IN</td>\n",
       "      <td>46227</td>\n",
       "      <td>39.637133</td>\n",
       "      <td>-86.127217</td>\n",
       "      <td>2.5</td>\n",
       "      <td>28</td>\n",
       "      <td>1</td>\n",
       "      <td>{'RestaurantsReservations': 'False', 'Restaura...</td>\n",
       "      <td>American (Traditional), Restaurants, Diners, B...</td>\n",
       "      <td>{'Monday': '6:0-22:0', 'Tuesday': '6:0-22:0', ...</td>\n",
       "    </tr>\n",
       "    <tr>\n",
       "      <th>14</th>\n",
       "      <td>0bPLkL0QhhPO5kt1_EXmNQ</td>\n",
       "      <td>Zio's Italian Market</td>\n",
       "      <td>2575 E Bay Dr</td>\n",
       "      <td>Largo</td>\n",
       "      <td>FL</td>\n",
       "      <td>33771</td>\n",
       "      <td>27.916116</td>\n",
       "      <td>-82.760461</td>\n",
       "      <td>4.5</td>\n",
       "      <td>100</td>\n",
       "      <td>0</td>\n",
       "      <td>{'OutdoorSeating': 'False', 'RestaurantsGoodFo...</td>\n",
       "      <td>Food, Delis, Italian, Bakeries, Restaurants</td>\n",
       "      <td>{'Monday': '10:0-18:0', 'Tuesday': '10:0-20:0'...</td>\n",
       "    </tr>\n",
       "    <tr>\n",
       "      <th>15</th>\n",
       "      <td>MUTTqe8uqyMdBl186RmNeA</td>\n",
       "      <td>Tuna Bar</td>\n",
       "      <td>205 Race St</td>\n",
       "      <td>Philadelphia</td>\n",
       "      <td>PA</td>\n",
       "      <td>19106</td>\n",
       "      <td>39.953949</td>\n",
       "      <td>-75.143226</td>\n",
       "      <td>4.0</td>\n",
       "      <td>245</td>\n",
       "      <td>1</td>\n",
       "      <td>{'RestaurantsReservations': 'True', 'Restauran...</td>\n",
       "      <td>Sushi Bars, Restaurants, Japanese</td>\n",
       "      <td>{'Tuesday': '13:30-22:0', 'Wednesday': '13:30-...</td>\n",
       "    </tr>\n",
       "  </tbody>\n",
       "</table>\n",
       "</div>"
      ],
      "text/plain": [
       "               business_id                  name               address  \\\n",
       "2   tUFrWirKiKi_TAnsVWINQQ                Target  5255 E Broadway Blvd   \n",
       "3   MTSW4McQd7CbVtyjqoe9mw    St Honore Pastries           935 Race St   \n",
       "12  il_Ro8jwPlHresjw9EGmBg               Denny's          8901 US 31 S   \n",
       "14  0bPLkL0QhhPO5kt1_EXmNQ  Zio's Italian Market         2575 E Bay Dr   \n",
       "15  MUTTqe8uqyMdBl186RmNeA              Tuna Bar           205 Race St   \n",
       "\n",
       "            city state postal_code   latitude   longitude  stars  \\\n",
       "2         Tucson    AZ       85711  32.223236 -110.880452    3.5   \n",
       "3   Philadelphia    PA       19107  39.955505  -75.155564    4.0   \n",
       "12  Indianapolis    IN       46227  39.637133  -86.127217    2.5   \n",
       "14         Largo    FL       33771  27.916116  -82.760461    4.5   \n",
       "15  Philadelphia    PA       19106  39.953949  -75.143226    4.0   \n",
       "\n",
       "    review_count  is_open                                         attributes  \\\n",
       "2             22        0  {'BikeParking': 'True', 'BusinessAcceptsCredit...   \n",
       "3             80        1  {'RestaurantsDelivery': 'False', 'OutdoorSeati...   \n",
       "12            28        1  {'RestaurantsReservations': 'False', 'Restaura...   \n",
       "14           100        0  {'OutdoorSeating': 'False', 'RestaurantsGoodFo...   \n",
       "15           245        1  {'RestaurantsReservations': 'True', 'Restauran...   \n",
       "\n",
       "                                           categories  \\\n",
       "2   Department Stores, Shopping, Fashion, Home & G...   \n",
       "3   Restaurants, Food, Bubble Tea, Coffee & Tea, B...   \n",
       "12  American (Traditional), Restaurants, Diners, B...   \n",
       "14        Food, Delis, Italian, Bakeries, Restaurants   \n",
       "15                  Sushi Bars, Restaurants, Japanese   \n",
       "\n",
       "                                                hours  \n",
       "2   {'Monday': '8:0-22:0', 'Tuesday': '8:0-22:0', ...  \n",
       "3   {'Monday': '7:0-20:0', 'Tuesday': '7:0-20:0', ...  \n",
       "12  {'Monday': '6:0-22:0', 'Tuesday': '6:0-22:0', ...  \n",
       "14  {'Monday': '10:0-18:0', 'Tuesday': '10:0-20:0'...  \n",
       "15  {'Tuesday': '13:30-22:0', 'Wednesday': '13:30-...  "
      ]
     },
     "execution_count": 14,
     "metadata": {},
     "output_type": "execute_result"
    }
   ],
   "source": [
    "business.head()"
   ]
  },
  {
   "cell_type": "code",
   "execution_count": 16,
   "metadata": {},
   "outputs": [],
   "source": [
    "business.drop(['address', 'categories', 'city', 'state','attributes', 'hours', 'is_open', 'latitude', 'longitude', 'name', 'postal_code',], axis=1, inplace=True)"
   ]
  },
  {
   "cell_type": "code",
   "execution_count": 17,
   "metadata": {},
   "outputs": [],
   "source": [
    "merged = pd.merge(business, df_ready_for_sklearn, on='business_id')"
   ]
  },
  {
   "cell_type": "code",
   "execution_count": 19,
   "metadata": {},
   "outputs": [
    {
     "data": {
      "text/html": [
       "<div>\n",
       "<style scoped>\n",
       "    .dataframe tbody tr th:only-of-type {\n",
       "        vertical-align: middle;\n",
       "    }\n",
       "\n",
       "    .dataframe tbody tr th {\n",
       "        vertical-align: top;\n",
       "    }\n",
       "\n",
       "    .dataframe thead th {\n",
       "        text-align: right;\n",
       "    }\n",
       "</style>\n",
       "<table border=\"1\" class=\"dataframe\">\n",
       "  <thead>\n",
       "    <tr style=\"text-align: right;\">\n",
       "      <th></th>\n",
       "      <th>business_id</th>\n",
       "      <th>stars</th>\n",
       "      <th>review_count</th>\n",
       "      <th>all_reviews</th>\n",
       "    </tr>\n",
       "  </thead>\n",
       "  <tbody>\n",
       "    <tr>\n",
       "      <th>0</th>\n",
       "      <td>tUFrWirKiKi_TAnsVWINQQ</td>\n",
       "      <td>3.5</td>\n",
       "      <td>22</td>\n",
       "      <td>We are fans of Target.  They seem to have a li...</td>\n",
       "    </tr>\n",
       "    <tr>\n",
       "      <th>1</th>\n",
       "      <td>MTSW4McQd7CbVtyjqoe9mw</td>\n",
       "      <td>4.0</td>\n",
       "      <td>80</td>\n",
       "      <td>This is nice little Chinese bakery in the hear...</td>\n",
       "    </tr>\n",
       "    <tr>\n",
       "      <th>2</th>\n",
       "      <td>il_Ro8jwPlHresjw9EGmBg</td>\n",
       "      <td>2.5</td>\n",
       "      <td>28</td>\n",
       "      <td>Went there at 4am and there was only one waitr...</td>\n",
       "    </tr>\n",
       "    <tr>\n",
       "      <th>3</th>\n",
       "      <td>0bPLkL0QhhPO5kt1_EXmNQ</td>\n",
       "      <td>4.5</td>\n",
       "      <td>100</td>\n",
       "      <td>The worst Chicken Parm. Sandwich I've ever eat...</td>\n",
       "    </tr>\n",
       "    <tr>\n",
       "      <th>4</th>\n",
       "      <td>MUTTqe8uqyMdBl186RmNeA</td>\n",
       "      <td>4.0</td>\n",
       "      <td>245</td>\n",
       "      <td>Stopped in to check out this new spot around t...</td>\n",
       "    </tr>\n",
       "  </tbody>\n",
       "</table>\n",
       "</div>"
      ],
      "text/plain": [
       "              business_id  stars  review_count  \\\n",
       "0  tUFrWirKiKi_TAnsVWINQQ    3.5            22   \n",
       "1  MTSW4McQd7CbVtyjqoe9mw    4.0            80   \n",
       "2  il_Ro8jwPlHresjw9EGmBg    2.5            28   \n",
       "3  0bPLkL0QhhPO5kt1_EXmNQ    4.5           100   \n",
       "4  MUTTqe8uqyMdBl186RmNeA    4.0           245   \n",
       "\n",
       "                                         all_reviews  \n",
       "0  We are fans of Target.  They seem to have a li...  \n",
       "1  This is nice little Chinese bakery in the hear...  \n",
       "2  Went there at 4am and there was only one waitr...  \n",
       "3  The worst Chicken Parm. Sandwich I've ever eat...  \n",
       "4  Stopped in to check out this new spot around t...  "
      ]
     },
     "execution_count": 19,
     "metadata": {},
     "output_type": "execute_result"
    }
   ],
   "source": [
    "merged.head()"
   ]
  },
  {
   "cell_type": "code",
   "execution_count": 20,
   "metadata": {},
   "outputs": [],
   "source": [
    "import sklearn.feature_extraction.text as sk_text\n",
    "vectorizer = sk_text.TfidfVectorizer(max_features=2000,\n",
    "                                     min_df=50)\n",
    "matrix = vectorizer.fit_transform(merged.all_reviews)"
   ]
  },
  {
   "cell_type": "code",
   "execution_count": 21,
   "metadata": {},
   "outputs": [
    {
     "data": {
      "text/plain": [
       "array(['00', '10', '100', ..., 'yum', 'yummy', 'zero'], dtype=object)"
      ]
     },
     "execution_count": 21,
     "metadata": {},
     "output_type": "execute_result"
    }
   ],
   "source": [
    "vectorizer.get_feature_names_out()"
   ]
  },
  {
   "cell_type": "raw",
   "metadata": {
    "vscode": {
     "languageId": "raw"
    }
   },
   "source": [
    "Relu Activation with Adam Optimizer"
   ]
  },
  {
   "cell_type": "code",
   "execution_count": 74,
   "metadata": {},
   "outputs": [
    {
     "name": "stdout",
     "output_type": "stream",
     "text": [
      "Epoch 1/1000\n",
      "288/288 - 0s - loss: 1.8621 - val_loss: 0.4031 - 471ms/epoch - 2ms/step\n",
      "Epoch 2/1000\n",
      "288/288 - 0s - loss: 0.2671 - val_loss: 0.1911 - 182ms/epoch - 633us/step\n",
      "Epoch 3/1000\n",
      "288/288 - 0s - loss: 0.1812 - val_loss: 0.1715 - 168ms/epoch - 584us/step\n",
      "Epoch 4/1000\n",
      "288/288 - 0s - loss: 0.1602 - val_loss: 0.1623 - 148ms/epoch - 514us/step\n",
      "Epoch 5/1000\n",
      "288/288 - 0s - loss: 0.1477 - val_loss: 0.1604 - 148ms/epoch - 514us/step\n",
      "Epoch 6/1000\n",
      "288/288 - 0s - loss: 0.1387 - val_loss: 0.1617 - 159ms/epoch - 553us/step\n",
      "Epoch 7/1000\n",
      "288/288 - 0s - loss: 0.1330 - val_loss: 0.1620 - 170ms/epoch - 591us/step\n",
      "Epoch 8/1000\n",
      "288/288 - 0s - loss: 0.1266 - val_loss: 0.1657 - 170ms/epoch - 591us/step\n",
      "Epoch 8: early stopping\n",
      "Training finished...Loading the best model\n",
      "\n",
      "72/72 [==============================] - 0s 643us/step\n",
      "RMSE score: 0.4004655006915573\n"
     ]
    }
   ],
   "source": [
    "\n",
    "import numpy as np\n",
    "import tensorflow as tf\n",
    "\n",
    "import os\n",
    "from sklearn import metrics\n",
    "from keras.models import Sequential\n",
    "from keras.layers import Dense, Activation\n",
    "from sklearn.model_selection import train_test_split\n",
    "from keras.callbacks import EarlyStopping\n",
    "from keras.callbacks import ModelCheckpoint\n",
    "%matplotlib inline\n",
    "import matplotlib.pyplot as plt\n",
    "from matplotlib.pyplot import figure, show\n",
    "save_path = \"./dnn\"\n",
    "tfidf = matrix.toarray()\n",
    "stars = merged['stars'].values\n",
    "x_train, x_test, y_train, y_test = train_test_split(tfidf, stars, test_size=0.20, random_state=42)\n",
    "checkpointer = ModelCheckpoint(filepath =\"./best_weights.hdf5\", verbose=0, save_best_only=True)\n",
    "\n",
    "model = Sequential()\n",
    "model.add(Dense(20, input_dim = tfidf.shape[1], activation='relu'))\n",
    "model.add(Dense(10))\n",
    "model.add(Dense(1))\n",
    "model.compile(loss='mean_squared_error', optimizer='adam')\n",
    "monitor = EarlyStopping(monitor='val_loss', min_delta=1e-3, patience=3, verbose=2, mode='auto')\n",
    "\n",
    "model.fit(x_train, y_train, validation_data=(x_test, y_test), callbacks=[monitor, checkpointer], verbose=2, epochs=1000)\n",
    "\n",
    "print('Training finished...Loading the best model')\n",
    "print()\n",
    "model.load_weights('./best_weights.hdf5')\n",
    "#Predict\n",
    "pred = model.predict(x_test)\n",
    "#RMSE score\n",
    "score = np.sqrt(metrics.mean_squared_error(pred, y_test))\n",
    "print(\"RMSE score: {}\".format(score))\n",
    "\n",
    "model.save(os.path.join(save_path, \"network.hdf5\"))"
   ]
  },
  {
   "cell_type": "code",
   "execution_count": 75,
   "metadata": {},
   "outputs": [
    {
     "data": {
      "image/png": "[encoded data removed]",
      "text/plain": [
       "<Figure size 640x480 with 1 Axes>"
      ]
     },
     "metadata": {},
     "output_type": "display_data"
    }
   ],
   "source": [
    "chart_regression(pred.flatten(),y_test, sort=True)"
   ]
  },
  {
   "cell_type": "code",
   "execution_count": 76,
   "metadata": {},
   "outputs": [
    {
     "data": {
      "text/html": [
       "<div>\n",
       "<style scoped>\n",
       "    .dataframe tbody tr th:only-of-type {\n",
       "        vertical-align: middle;\n",
       "    }\n",
       "\n",
       "    .dataframe tbody tr th {\n",
       "        vertical-align: top;\n",
       "    }\n",
       "\n",
       "    .dataframe thead th {\n",
       "        text-align: right;\n",
       "    }\n",
       "</style>\n",
       "<table border=\"1\" class=\"dataframe\">\n",
       "  <thead>\n",
       "    <tr style=\"text-align: right;\">\n",
       "      <th></th>\n",
       "      <th>stars</th>\n",
       "      <th>predicted</th>\n",
       "    </tr>\n",
       "  </thead>\n",
       "  <tbody>\n",
       "    <tr>\n",
       "      <th>0</th>\n",
       "      <td>3.5</td>\n",
       "      <td>3.176678</td>\n",
       "    </tr>\n",
       "    <tr>\n",
       "      <th>1</th>\n",
       "      <td>4.0</td>\n",
       "      <td>3.855871</td>\n",
       "    </tr>\n",
       "    <tr>\n",
       "      <th>2</th>\n",
       "      <td>2.5</td>\n",
       "      <td>1.608593</td>\n",
       "    </tr>\n",
       "    <tr>\n",
       "      <th>3</th>\n",
       "      <td>4.5</td>\n",
       "      <td>2.887215</td>\n",
       "    </tr>\n",
       "    <tr>\n",
       "      <th>4</th>\n",
       "      <td>4.0</td>\n",
       "      <td>3.617704</td>\n",
       "    </tr>\n",
       "  </tbody>\n",
       "</table>\n",
       "</div>"
      ],
      "text/plain": [
       "   stars  predicted\n",
       "0    3.5   3.176678\n",
       "1    4.0   3.855871\n",
       "2    2.5   1.608593\n",
       "3    4.5   2.887215\n",
       "4    4.0   3.617704"
      ]
     },
     "execution_count": 76,
     "metadata": {},
     "output_type": "execute_result"
    }
   ],
   "source": [
    "df_y = pd.DataFrame(merged.stars, columns = ['stars'])\n",
    "df_pred = pd.DataFrame(pred, columns = ['predicted'])\n",
    "df_y.head()\n",
    "\n",
    "result = pd.concat([df_y, df_pred], axis = 1)\n",
    "result.head()"
   ]
  },
  {
   "cell_type": "markdown",
   "metadata": {},
   "source": []
  },
  {
   "cell_type": "code",
   "execution_count": 66,
   "metadata": {},
   "outputs": [],
   "source": [
    "#RElu and SGD"
   ]
  },
  {
   "cell_type": "code",
   "execution_count": 78,
   "metadata": {},
   "outputs": [
    {
     "name": "stdout",
     "output_type": "stream",
     "text": [
      "Epoch 1/1000\n",
      "288/288 - 1s - loss: 0.9340 - val_loss: 0.6327 - 622ms/epoch - 2ms/step\n",
      "Epoch 2/1000\n",
      "288/288 - 0s - loss: 0.5640 - val_loss: 0.5027 - 158ms/epoch - 549us/step\n",
      "Epoch 3/1000\n",
      "288/288 - 0s - loss: 0.4197 - val_loss: 0.3377 - 183ms/epoch - 634us/step\n",
      "Epoch 4/1000\n",
      "288/288 - 0s - loss: 0.3011 - val_loss: 0.2634 - 169ms/epoch - 588us/step\n",
      "Epoch 5/1000\n",
      "288/288 - 0s - loss: 0.2545 - val_loss: 0.2291 - 141ms/epoch - 490us/step\n",
      "Epoch 6/1000\n",
      "288/288 - 0s - loss: 0.2330 - val_loss: 0.2211 - 138ms/epoch - 478us/step\n",
      "Epoch 7/1000\n",
      "288/288 - 0s - loss: 0.2198 - val_loss: 0.2068 - 139ms/epoch - 484us/step\n",
      "Epoch 8/1000\n",
      "288/288 - 0s - loss: 0.2082 - val_loss: 0.2113 - 157ms/epoch - 545us/step\n",
      "Epoch 9/1000\n",
      "288/288 - 0s - loss: 0.2016 - val_loss: 0.2060 - 166ms/epoch - 577us/step\n",
      "Epoch 10/1000\n",
      "288/288 - 0s - loss: 0.1958 - val_loss: 0.1815 - 174ms/epoch - 606us/step\n",
      "Epoch 11/1000\n",
      "288/288 - 0s - loss: 0.1888 - val_loss: 0.1781 - 168ms/epoch - 583us/step\n",
      "Epoch 12/1000\n",
      "288/288 - 0s - loss: 0.1862 - val_loss: 0.1836 - 145ms/epoch - 505us/step\n",
      "Epoch 13/1000\n",
      "288/288 - 0s - loss: 0.1812 - val_loss: 0.1750 - 146ms/epoch - 506us/step\n",
      "Epoch 14/1000\n",
      "288/288 - 0s - loss: 0.1791 - val_loss: 0.1809 - 144ms/epoch - 499us/step\n",
      "Epoch 15/1000\n",
      "288/288 - 0s - loss: 0.1764 - val_loss: 0.1681 - 144ms/epoch - 501us/step\n",
      "Epoch 16/1000\n",
      "288/288 - 0s - loss: 0.1735 - val_loss: 0.1669 - 142ms/epoch - 492us/step\n",
      "Epoch 17/1000\n",
      "288/288 - 0s - loss: 0.1730 - val_loss: 0.1646 - 141ms/epoch - 489us/step\n",
      "Epoch 18/1000\n",
      "288/288 - 0s - loss: 0.1692 - val_loss: 0.1763 - 134ms/epoch - 465us/step\n",
      "Epoch 19/1000\n",
      "288/288 - 0s - loss: 0.1694 - val_loss: 0.1848 - 136ms/epoch - 471us/step\n",
      "Epoch 20/1000\n",
      "288/288 - 0s - loss: 0.1650 - val_loss: 0.1618 - 137ms/epoch - 474us/step\n",
      "Epoch 21/1000\n",
      "288/288 - 0s - loss: 0.1643 - val_loss: 0.1904 - 134ms/epoch - 467us/step\n",
      "Epoch 22/1000\n",
      "288/288 - 0s - loss: 0.1655 - val_loss: 0.1601 - 136ms/epoch - 474us/step\n",
      "Epoch 23/1000\n",
      "288/288 - 0s - loss: 0.1583 - val_loss: 0.1593 - 138ms/epoch - 479us/step\n",
      "Epoch 24/1000\n",
      "288/288 - 0s - loss: 0.1571 - val_loss: 0.1622 - 132ms/epoch - 457us/step\n",
      "Epoch 25/1000\n",
      "288/288 - 0s - loss: 0.1569 - val_loss: 0.1578 - 134ms/epoch - 467us/step\n",
      "Epoch 26/1000\n",
      "288/288 - 0s - loss: 0.1566 - val_loss: 0.1581 - 140ms/epoch - 486us/step\n",
      "Epoch 27/1000\n",
      "288/288 - 0s - loss: 0.1573 - val_loss: 0.1571 - 180ms/epoch - 626us/step\n",
      "Epoch 28/1000\n",
      "288/288 - 0s - loss: 0.1552 - val_loss: 0.1643 - 154ms/epoch - 536us/step\n",
      "Epoch 28: early stopping\n",
      "Training finished...Loading the best model\n",
      "\n",
      "72/72 [==============================] - 0s 372us/step\n",
      "RMSE score: 0.39630122244325916\n"
     ]
    }
   ],
   "source": [
    "save_path = \"./dnn\"\n",
    "tfidf = matrix.toarray()\n",
    "stars = merged['stars'].values\n",
    "x_train, x_test, y_train, y_test = train_test_split(tfidf, stars, test_size=0.20, random_state=42)\n",
    "checkpointer = ModelCheckpoint(filepath =\"./best_weights.hdf5\", verbose=0, save_best_only=True)\n",
    "\n",
    "model = Sequential()\n",
    "model.add(Dense(30, input_dim = tfidf.shape[1], activation='relu'))\n",
    "model.add(Dense(20))\n",
    "model.add(Dense(1))\n",
    "model.compile(loss='mean_squared_error', optimizer='sgd')\n",
    "monitor = EarlyStopping(monitor='val_loss', min_delta=1e-3, patience=3, verbose=2, mode='auto')\n",
    "\n",
    "model.fit(x_train, y_train, validation_data=(x_test, y_test), callbacks=[monitor, checkpointer], verbose=2, epochs=1000)\n",
    "\n",
    "print('Training finished...Loading the best model')\n",
    "print()\n",
    "model.load_weights('./best_weights.hdf5')\n",
    "#Predict\n",
    "pred = model.predict(x_test)\n",
    "#RMSE score\n",
    "score = np.sqrt(metrics.mean_squared_error(pred, y_test))\n",
    "print(\"RMSE score: {}\".format(score))\n",
    "\n",
    "model.save(os.path.join(save_path, \"network.hdf5\"))"
   ]
  },
  {
   "cell_type": "code",
   "execution_count": 79,
   "metadata": {},
   "outputs": [
    {
     "data": {
      "image/png": "[encoded data removed]",
      "text/plain": [
       "<Figure size 640x480 with 1 Axes>"
      ]
     },
     "metadata": {},
     "output_type": "display_data"
    }
   ],
   "source": [
    "chart_regression(pred.flatten(),y_test, sort=True)"
   ]
  },
  {
   "cell_type": "code",
   "execution_count": 80,
   "metadata": {},
   "outputs": [
    {
     "data": {
      "text/html": [
       "<div>\n",
       "<style scoped>\n",
       "    .dataframe tbody tr th:only-of-type {\n",
       "        vertical-align: middle;\n",
       "    }\n",
       "\n",
       "    .dataframe tbody tr th {\n",
       "        vertical-align: top;\n",
       "    }\n",
       "\n",
       "    .dataframe thead th {\n",
       "        text-align: right;\n",
       "    }\n",
       "</style>\n",
       "<table border=\"1\" class=\"dataframe\">\n",
       "  <thead>\n",
       "    <tr style=\"text-align: right;\">\n",
       "      <th></th>\n",
       "      <th>stars</th>\n",
       "      <th>predicted</th>\n",
       "    </tr>\n",
       "  </thead>\n",
       "  <tbody>\n",
       "    <tr>\n",
       "      <th>0</th>\n",
       "      <td>3.5</td>\n",
       "      <td>2.930017</td>\n",
       "    </tr>\n",
       "    <tr>\n",
       "      <th>1</th>\n",
       "      <td>4.0</td>\n",
       "      <td>3.823811</td>\n",
       "    </tr>\n",
       "    <tr>\n",
       "      <th>2</th>\n",
       "      <td>2.5</td>\n",
       "      <td>1.826217</td>\n",
       "    </tr>\n",
       "    <tr>\n",
       "      <th>3</th>\n",
       "      <td>4.5</td>\n",
       "      <td>2.784048</td>\n",
       "    </tr>\n",
       "    <tr>\n",
       "      <th>4</th>\n",
       "      <td>4.0</td>\n",
       "      <td>3.586596</td>\n",
       "    </tr>\n",
       "  </tbody>\n",
       "</table>\n",
       "</div>"
      ],
      "text/plain": [
       "   stars  predicted\n",
       "0    3.5   2.930017\n",
       "1    4.0   3.823811\n",
       "2    2.5   1.826217\n",
       "3    4.5   2.784048\n",
       "4    4.0   3.586596"
      ]
     },
     "execution_count": 80,
     "metadata": {},
     "output_type": "execute_result"
    }
   ],
   "source": [
    "df_y = pd.DataFrame(merged.stars, columns = ['stars'])\n",
    "df_pred = pd.DataFrame(pred, columns = ['predicted'])\n",
    "df_y.head()\n",
    "\n",
    "result = pd.concat([df_y, df_pred], axis = 1)\n",
    "result.head()"
   ]
  },
  {
   "cell_type": "markdown",
   "metadata": {},
   "source": [
    "Sigmoid With Adam"
   ]
  },
  {
   "cell_type": "code",
   "execution_count": 81,
   "metadata": {},
   "outputs": [
    {
     "name": "stdout",
     "output_type": "stream",
     "text": [
      "Epoch 1/1000\n",
      "288/288 - 0s - loss: 1.4413 - val_loss: 0.5098 - 381ms/epoch - 1ms/step\n",
      "Epoch 2/1000\n",
      "288/288 - 0s - loss: 0.3806 - val_loss: 0.2756 - 330ms/epoch - 1ms/step\n",
      "Epoch 3/1000\n",
      "288/288 - 0s - loss: 0.2268 - val_loss: 0.1921 - 337ms/epoch - 1ms/step\n",
      "Epoch 4/1000\n",
      "288/288 - 0s - loss: 0.1808 - val_loss: 0.1658 - 217ms/epoch - 753us/step\n",
      "Epoch 5/1000\n",
      "288/288 - 0s - loss: 0.1631 - val_loss: 0.1567 - 184ms/epoch - 639us/step\n",
      "Epoch 6/1000\n",
      "288/288 - 0s - loss: 0.1531 - val_loss: 0.1515 - 191ms/epoch - 663us/step\n",
      "Epoch 7/1000\n",
      "288/288 - 0s - loss: 0.1442 - val_loss: 0.1490 - 163ms/epoch - 566us/step\n",
      "Epoch 8/1000\n",
      "288/288 - 0s - loss: 0.1379 - val_loss: 0.1475 - 158ms/epoch - 548us/step\n",
      "Epoch 9/1000\n",
      "288/288 - 0s - loss: 0.1323 - val_loss: 0.1480 - 157ms/epoch - 544us/step\n",
      "Epoch 10/1000\n",
      "288/288 - 0s - loss: 0.1292 - val_loss: 0.1511 - 155ms/epoch - 537us/step\n",
      "Epoch 11/1000\n",
      "288/288 - 0s - loss: 0.1268 - val_loss: 0.1508 - 152ms/epoch - 528us/step\n",
      "Epoch 11: early stopping\n",
      "Training finished...Loading the best model\n",
      "\n",
      "72/72 [==============================] - 0s 374us/step\n",
      "RMSE score: 0.38401518074926294\n"
     ]
    }
   ],
   "source": [
    "save_path = \"./dnn\"\n",
    "tfidf = matrix.toarray()\n",
    "stars = merged['stars'].values\n",
    "x_train, x_test, y_train, y_test = train_test_split(tfidf, stars, test_size=0.20, random_state=42)\n",
    "checkpointer = ModelCheckpoint(filepath =\"./best_weights.hdf5\", verbose=0, save_best_only=True)\n",
    "\n",
    "model = Sequential()\n",
    "model.add(Dense(30, input_dim = tfidf.shape[1], activation='sigmoid'))\n",
    "model.add(Dense(20))\n",
    "model.add(Dense(1))\n",
    "model.compile(loss='mean_squared_error', optimizer='adam')\n",
    "monitor = EarlyStopping(monitor='val_loss', min_delta=1e-3, patience=3, verbose=2, mode='auto')\n",
    "\n",
    "model.fit(x_train, y_train, validation_data=(x_test, y_test), callbacks=[monitor, checkpointer], verbose=2, epochs=1000)\n",
    "\n",
    "print('Training finished...Loading the best model')\n",
    "print()\n",
    "model.load_weights('./best_weights.hdf5')\n",
    "#Predict\n",
    "pred = model.predict(x_test)\n",
    "#RMSE score\n",
    "score = np.sqrt(metrics.mean_squared_error(pred, y_test))\n",
    "print(\"RMSE score: {}\".format(score))\n",
    "\n",
    "model.save(os.path.join(save_path, \"network.hdf5\"))"
   ]
  },
  {
   "cell_type": "code",
   "execution_count": 82,
   "metadata": {},
   "outputs": [
    {
     "data": {
      "image/png": "[encoded data removed]",
      "text/plain": [
       "<Figure size 640x480 with 1 Axes>"
      ]
     },
     "metadata": {},
     "output_type": "display_data"
    }
   ],
   "source": [
    "chart_regression(pred.flatten(),y_test, sort=True)"
   ]
  },
  {
   "cell_type": "code",
   "execution_count": 83,
   "metadata": {},
   "outputs": [
    {
     "data": {
      "text/html": [
       "<div>\n",
       "<style scoped>\n",
       "    .dataframe tbody tr th:only-of-type {\n",
       "        vertical-align: middle;\n",
       "    }\n",
       "\n",
       "    .dataframe tbody tr th {\n",
       "        vertical-align: top;\n",
       "    }\n",
       "\n",
       "    .dataframe thead th {\n",
       "        text-align: right;\n",
       "    }\n",
       "</style>\n",
       "<table border=\"1\" class=\"dataframe\">\n",
       "  <thead>\n",
       "    <tr style=\"text-align: right;\">\n",
       "      <th></th>\n",
       "      <th>stars</th>\n",
       "      <th>predicted</th>\n",
       "    </tr>\n",
       "  </thead>\n",
       "  <tbody>\n",
       "    <tr>\n",
       "      <th>0</th>\n",
       "      <td>3.5</td>\n",
       "      <td>3.104033</td>\n",
       "    </tr>\n",
       "    <tr>\n",
       "      <th>1</th>\n",
       "      <td>4.0</td>\n",
       "      <td>3.855316</td>\n",
       "    </tr>\n",
       "    <tr>\n",
       "      <th>2</th>\n",
       "      <td>2.5</td>\n",
       "      <td>1.489065</td>\n",
       "    </tr>\n",
       "    <tr>\n",
       "      <th>3</th>\n",
       "      <td>4.5</td>\n",
       "      <td>2.877041</td>\n",
       "    </tr>\n",
       "    <tr>\n",
       "      <th>4</th>\n",
       "      <td>4.0</td>\n",
       "      <td>3.563398</td>\n",
       "    </tr>\n",
       "  </tbody>\n",
       "</table>\n",
       "</div>"
      ],
      "text/plain": [
       "   stars  predicted\n",
       "0    3.5   3.104033\n",
       "1    4.0   3.855316\n",
       "2    2.5   1.489065\n",
       "3    4.5   2.877041\n",
       "4    4.0   3.563398"
      ]
     },
     "execution_count": 83,
     "metadata": {},
     "output_type": "execute_result"
    }
   ],
   "source": [
    "df_y = pd.DataFrame(merged.stars, columns = ['stars'])\n",
    "df_pred = pd.DataFrame(pred, columns = ['predicted'])\n",
    "df_y.head()\n",
    "\n",
    "result = pd.concat([df_y, df_pred], axis = 1)\n",
    "result.head()"
   ]
  },
  {
   "cell_type": "code",
   "execution_count": 85,
   "metadata": {},
   "outputs": [
    {
     "name": "stdout",
     "output_type": "stream",
     "text": [
      "Epoch 1/1000\n",
      "288/288 - 1s - loss: 0.7688 - val_loss: 0.7079 - 517ms/epoch - 2ms/step\n",
      "Epoch 2/1000\n",
      "288/288 - 0s - loss: 0.6828 - val_loss: 0.6873 - 179ms/epoch - 620us/step\n",
      "Epoch 3/1000\n",
      "288/288 - 0s - loss: 0.6751 - val_loss: 0.6779 - 147ms/epoch - 512us/step\n",
      "Epoch 4/1000\n",
      "288/288 - 0s - loss: 0.6657 - val_loss: 0.6702 - 150ms/epoch - 520us/step\n",
      "Epoch 5/1000\n",
      "288/288 - 0s - loss: 0.6581 - val_loss: 0.6663 - 177ms/epoch - 614us/step\n",
      "Epoch 6/1000\n",
      "288/288 - 0s - loss: 0.6462 - val_loss: 0.6484 - 152ms/epoch - 527us/step\n",
      "Epoch 7/1000\n",
      "288/288 - 0s - loss: 0.6362 - val_loss: 0.6331 - 144ms/epoch - 501us/step\n",
      "Epoch 8/1000\n",
      "288/288 - 0s - loss: 0.6196 - val_loss: 0.6154 - 149ms/epoch - 518us/step\n",
      "Epoch 9/1000\n",
      "288/288 - 0s - loss: 0.6010 - val_loss: 0.6040 - 154ms/epoch - 536us/step\n",
      "Epoch 10/1000\n",
      "288/288 - 0s - loss: 0.5762 - val_loss: 0.5879 - 144ms/epoch - 499us/step\n",
      "Epoch 11/1000\n",
      "288/288 - 0s - loss: 0.5458 - val_loss: 0.5382 - 139ms/epoch - 483us/step\n",
      "Epoch 12/1000\n",
      "288/288 - 0s - loss: 0.5121 - val_loss: 0.4847 - 142ms/epoch - 494us/step\n",
      "Epoch 13/1000\n",
      "288/288 - 0s - loss: 0.4690 - val_loss: 0.4344 - 144ms/epoch - 501us/step\n",
      "Epoch 14/1000\n",
      "288/288 - 0s - loss: 0.4279 - val_loss: 0.3820 - 225ms/epoch - 780us/step\n",
      "Epoch 15/1000\n",
      "288/288 - 0s - loss: 0.3841 - val_loss: 0.3969 - 145ms/epoch - 502us/step\n",
      "Epoch 16/1000\n",
      "288/288 - 0s - loss: 0.3536 - val_loss: 0.3014 - 141ms/epoch - 491us/step\n",
      "Epoch 17/1000\n",
      "288/288 - 0s - loss: 0.3330 - val_loss: 0.2789 - 140ms/epoch - 485us/step\n",
      "Epoch 18/1000\n",
      "288/288 - 0s - loss: 0.3088 - val_loss: 0.2573 - 136ms/epoch - 472us/step\n",
      "Epoch 19/1000\n",
      "288/288 - 0s - loss: 0.3029 - val_loss: 0.3827 - 133ms/epoch - 463us/step\n",
      "Epoch 20/1000\n",
      "288/288 - 0s - loss: 0.3125 - val_loss: 0.2878 - 136ms/epoch - 472us/step\n",
      "Epoch 21/1000\n",
      "288/288 - 0s - loss: 0.2848 - val_loss: 0.3960 - 133ms/epoch - 462us/step\n",
      "Epoch 21: early stopping\n",
      "Training finished...Loading the best model\n",
      "\n",
      "72/72 [==============================] - 0s 293us/step\n",
      "RMSE score: 0.5072230811238142\n"
     ]
    }
   ],
   "source": [
    "# Sigmoid with SGD\n",
    "save_path = \"./dnn\"\n",
    "tfidf = matrix.toarray()\n",
    "stars = merged['stars'].values\n",
    "x_train, x_test, y_train, y_test = train_test_split(tfidf, stars, test_size=0.20, random_state=42)\n",
    "checkpointer = ModelCheckpoint(filepath =\"./best_weights.hdf5\", verbose=0, save_best_only=True)\n",
    "\n",
    "model = Sequential()\n",
    "model.add(Dense(30, input_dim = tfidf.shape[1], activation='sigmoid'))\n",
    "model.add(Dense(20))\n",
    "model.add(Dense(1))\n",
    "model.compile(loss='mean_squared_error', optimizer='sgd')\n",
    "monitor = EarlyStopping(monitor='val_loss', min_delta=1e-3, patience=3, verbose=2, mode='auto')\n",
    "\n",
    "model.fit(x_train, y_train, validation_data=(x_test, y_test), callbacks=[monitor, checkpointer], verbose=2, epochs=1000)\n",
    "\n",
    "print('Training finished...Loading the best model')\n",
    "print()\n",
    "model.load_weights('./best_weights.hdf5')\n",
    "#Predict\n",
    "pred = model.predict(x_test)\n",
    "#RMSE score\n",
    "score = np.sqrt(metrics.mean_squared_error(pred, y_test))\n",
    "print(\"RMSE score: {}\".format(score))\n",
    "\n",
    "model.save(os.path.join(save_path, \"network.hdf5\"))"
   ]
  },
  {
   "cell_type": "code",
   "execution_count": 86,
   "metadata": {},
   "outputs": [
    {
     "data": {
      "image/png": "[encoded data removed]",
      "text/plain": [
       "<Figure size 640x480 with 1 Axes>"
      ]
     },
     "metadata": {},
     "output_type": "display_data"
    }
   ],
   "source": [
    "chart_regression(pred.flatten(),y_test, sort=True)"
   ]
  },
  {
   "cell_type": "code",
   "execution_count": 87,
   "metadata": {},
   "outputs": [
    {
     "data": {
      "text/html": [
       "<div>\n",
       "<style scoped>\n",
       "    .dataframe tbody tr th:only-of-type {\n",
       "        vertical-align: middle;\n",
       "    }\n",
       "\n",
       "    .dataframe tbody tr th {\n",
       "        vertical-align: top;\n",
       "    }\n",
       "\n",
       "    .dataframe thead th {\n",
       "        text-align: right;\n",
       "    }\n",
       "</style>\n",
       "<table border=\"1\" class=\"dataframe\">\n",
       "  <thead>\n",
       "    <tr style=\"text-align: right;\">\n",
       "      <th></th>\n",
       "      <th>stars</th>\n",
       "      <th>predicted</th>\n",
       "    </tr>\n",
       "  </thead>\n",
       "  <tbody>\n",
       "    <tr>\n",
       "      <th>0</th>\n",
       "      <td>3.5</td>\n",
       "      <td>2.893659</td>\n",
       "    </tr>\n",
       "    <tr>\n",
       "      <th>1</th>\n",
       "      <td>4.0</td>\n",
       "      <td>3.654878</td>\n",
       "    </tr>\n",
       "    <tr>\n",
       "      <th>2</th>\n",
       "      <td>2.5</td>\n",
       "      <td>2.688569</td>\n",
       "    </tr>\n",
       "    <tr>\n",
       "      <th>3</th>\n",
       "      <td>4.5</td>\n",
       "      <td>2.802314</td>\n",
       "    </tr>\n",
       "    <tr>\n",
       "      <th>4</th>\n",
       "      <td>4.0</td>\n",
       "      <td>3.504620</td>\n",
       "    </tr>\n",
       "  </tbody>\n",
       "</table>\n",
       "</div>"
      ],
      "text/plain": [
       "   stars  predicted\n",
       "0    3.5   2.893659\n",
       "1    4.0   3.654878\n",
       "2    2.5   2.688569\n",
       "3    4.5   2.802314\n",
       "4    4.0   3.504620"
      ]
     },
     "execution_count": 87,
     "metadata": {},
     "output_type": "execute_result"
    }
   ],
   "source": [
    "df_y = pd.DataFrame(merged.stars, columns = ['stars'])\n",
    "df_pred = pd.DataFrame(pred, columns = ['predicted'])\n",
    "df_y.head()\n",
    "\n",
    "result = pd.concat([df_y, df_pred], axis = 1)\n",
    "result.head()"
   ]
  },
  {
   "cell_type": "code",
   "execution_count": 88,
   "metadata": {},
   "outputs": [
    {
     "name": "stdout",
     "output_type": "stream",
     "text": [
      "Epoch 1/1000\n",
      "288/288 - 1s - loss: 1.0077 - val_loss: 0.2094 - 578ms/epoch - 2ms/step\n",
      "Epoch 2/1000\n",
      "288/288 - 0s - loss: 0.1885 - val_loss: 0.1698 - 183ms/epoch - 635us/step\n",
      "Epoch 3/1000\n",
      "288/288 - 0s - loss: 0.1577 - val_loss: 0.1651 - 170ms/epoch - 591us/step\n",
      "Epoch 4/1000\n",
      "288/288 - 0s - loss: 0.1424 - val_loss: 0.1696 - 155ms/epoch - 538us/step\n",
      "Epoch 5/1000\n",
      "288/288 - 0s - loss: 0.1348 - val_loss: 0.1721 - 156ms/epoch - 540us/step\n",
      "Epoch 6/1000\n",
      "288/288 - 0s - loss: 0.1289 - val_loss: 0.1724 - 159ms/epoch - 551us/step\n",
      "Epoch 6: early stopping\n",
      "Training finished...Loading the best model\n",
      "\n",
      "72/72 [==============================] - 0s 401us/step\n",
      "RMSE score: 0.4062637579646252\n"
     ]
    }
   ],
   "source": [
    "# tanh with adam\n",
    "save_path = \"./dnn\"\n",
    "tfidf = matrix.toarray()\n",
    "stars = merged['stars'].values\n",
    "x_train, x_test, y_train, y_test = train_test_split(tfidf, stars, test_size=0.20, random_state=42)\n",
    "checkpointer = ModelCheckpoint(filepath =\"./best_weights.hdf5\", verbose=0, save_best_only=True)\n",
    "\n",
    "model = Sequential()\n",
    "model.add(Dense(30, input_dim = tfidf.shape[1], activation='tanh'))\n",
    "model.add(Dense(20))\n",
    "model.add(Dense(1))\n",
    "model.compile(loss='mean_squared_error', optimizer='adam')\n",
    "monitor = EarlyStopping(monitor='val_loss', min_delta=1e-3, patience=3, verbose=2, mode='auto')\n",
    "\n",
    "model.fit(x_train, y_train, validation_data=(x_test, y_test), callbacks=[monitor, checkpointer], verbose=2, epochs=1000)\n",
    "\n",
    "print('Training finished...Loading the best model')\n",
    "print()\n",
    "model.load_weights('./best_weights.hdf5')\n",
    "#Predict\n",
    "pred = model.predict(x_test)\n",
    "#RMSE score\n",
    "score = np.sqrt(metrics.mean_squared_error(pred, y_test))\n",
    "print(\"RMSE score: {}\".format(score))\n",
    "\n",
    "model.save(os.path.join(save_path, \"network.hdf5\"))"
   ]
  },
  {
   "cell_type": "code",
   "execution_count": 89,
   "metadata": {},
   "outputs": [
    {
     "data": {
      "image/png": "[encoded data removed]",
      "text/plain": [
       "<Figure size 640x480 with 1 Axes>"
      ]
     },
     "metadata": {},
     "output_type": "display_data"
    }
   ],
   "source": [
    "chart_regression(pred.flatten(),y_test, sort=True)"
   ]
  },
  {
   "cell_type": "code",
   "execution_count": 92,
   "metadata": {},
   "outputs": [
    {
     "data": {
      "text/html": [
       "<div>\n",
       "<style scoped>\n",
       "    .dataframe tbody tr th:only-of-type {\n",
       "        vertical-align: middle;\n",
       "    }\n",
       "\n",
       "    .dataframe tbody tr th {\n",
       "        vertical-align: top;\n",
       "    }\n",
       "\n",
       "    .dataframe thead th {\n",
       "        text-align: right;\n",
       "    }\n",
       "</style>\n",
       "<table border=\"1\" class=\"dataframe\">\n",
       "  <thead>\n",
       "    <tr style=\"text-align: right;\">\n",
       "      <th></th>\n",
       "      <th>stars</th>\n",
       "      <th>predicted</th>\n",
       "    </tr>\n",
       "  </thead>\n",
       "  <tbody>\n",
       "    <tr>\n",
       "      <th>0</th>\n",
       "      <td>3.5</td>\n",
       "      <td>3.143306</td>\n",
       "    </tr>\n",
       "    <tr>\n",
       "      <th>1</th>\n",
       "      <td>4.0</td>\n",
       "      <td>3.884277</td>\n",
       "    </tr>\n",
       "    <tr>\n",
       "      <th>2</th>\n",
       "      <td>2.5</td>\n",
       "      <td>1.544532</td>\n",
       "    </tr>\n",
       "    <tr>\n",
       "      <th>3</th>\n",
       "      <td>4.5</td>\n",
       "      <td>2.916602</td>\n",
       "    </tr>\n",
       "    <tr>\n",
       "      <th>4</th>\n",
       "      <td>4.0</td>\n",
       "      <td>3.656090</td>\n",
       "    </tr>\n",
       "  </tbody>\n",
       "</table>\n",
       "</div>"
      ],
      "text/plain": [
       "   stars  predicted\n",
       "0    3.5   3.143306\n",
       "1    4.0   3.884277\n",
       "2    2.5   1.544532\n",
       "3    4.5   2.916602\n",
       "4    4.0   3.656090"
      ]
     },
     "execution_count": 92,
     "metadata": {},
     "output_type": "execute_result"
    }
   ],
   "source": [
    "df_y = pd.DataFrame(merged.stars, columns = ['stars'])\n",
    "df_pred = pd.DataFrame(pred, columns = ['predicted'])\n",
    "df_y.head()\n",
    "result = pd.concat([df_y, df_pred], axis = 1)\n",
    "result.head()\n"
   ]
  },
  {
   "cell_type": "code",
   "execution_count": 93,
   "metadata": {},
   "outputs": [
    {
     "name": "stdout",
     "output_type": "stream",
     "text": [
      "Epoch 1/1000\n",
      "288/288 - 1s - loss: 0.8383 - val_loss: 0.6190 - 532ms/epoch - 2ms/step\n",
      "Epoch 2/1000\n",
      "288/288 - 0s - loss: 0.5072 - val_loss: 0.4376 - 215ms/epoch - 745us/step\n",
      "Epoch 3/1000\n",
      "288/288 - 0s - loss: 0.3477 - val_loss: 0.2772 - 174ms/epoch - 603us/step\n",
      "Epoch 4/1000\n",
      "288/288 - 0s - loss: 0.2662 - val_loss: 0.2573 - 155ms/epoch - 540us/step\n",
      "Epoch 5/1000\n",
      "288/288 - 0s - loss: 0.2370 - val_loss: 0.2074 - 157ms/epoch - 545us/step\n",
      "Epoch 6/1000\n",
      "288/288 - 0s - loss: 0.2210 - val_loss: 0.2020 - 155ms/epoch - 538us/step\n",
      "Epoch 7/1000\n",
      "288/288 - 0s - loss: 0.2109 - val_loss: 0.1925 - 153ms/epoch - 530us/step\n",
      "Epoch 8/1000\n",
      "288/288 - 0s - loss: 0.2013 - val_loss: 0.1826 - 155ms/epoch - 537us/step\n",
      "Epoch 9/1000\n",
      "288/288 - 0s - loss: 0.1994 - val_loss: 0.1923 - 158ms/epoch - 548us/step\n",
      "Epoch 10/1000\n",
      "288/288 - 0s - loss: 0.1885 - val_loss: 0.1783 - 140ms/epoch - 484us/step\n",
      "Epoch 11/1000\n",
      "288/288 - 0s - loss: 0.1863 - val_loss: 0.1712 - 142ms/epoch - 492us/step\n",
      "Epoch 12/1000\n",
      "288/288 - 0s - loss: 0.1819 - val_loss: 0.1700 - 156ms/epoch - 542us/step\n",
      "Epoch 13/1000\n",
      "288/288 - 0s - loss: 0.1753 - val_loss: 0.1827 - 150ms/epoch - 520us/step\n",
      "Epoch 14/1000\n",
      "288/288 - 0s - loss: 0.1756 - val_loss: 0.1765 - 148ms/epoch - 513us/step\n",
      "Epoch 15/1000\n",
      "288/288 - 0s - loss: 0.1720 - val_loss: 0.1662 - 162ms/epoch - 562us/step\n",
      "Epoch 16/1000\n",
      "288/288 - 0s - loss: 0.1765 - val_loss: 0.1654 - 152ms/epoch - 529us/step\n",
      "Epoch 17/1000\n",
      "288/288 - 0s - loss: 0.1651 - val_loss: 0.1618 - 143ms/epoch - 496us/step\n",
      "Epoch 18/1000\n",
      "288/288 - 0s - loss: 0.1637 - val_loss: 0.1936 - 274ms/epoch - 950us/step\n",
      "Epoch 19/1000\n",
      "288/288 - 0s - loss: 0.1639 - val_loss: 0.1822 - 144ms/epoch - 500us/step\n",
      "Epoch 20/1000\n",
      "288/288 - 0s - loss: 0.1610 - val_loss: 0.2119 - 146ms/epoch - 507us/step\n",
      "Epoch 20: early stopping\n",
      "Training finished...Loading the best model\n",
      "\n",
      "72/72 [==============================] - 0s 305us/step\n",
      "RMSE score: 0.4022082975576878\n"
     ]
    }
   ],
   "source": [
    "# tanh with sgd\n",
    "save_path = \"./dnn\"\n",
    "tfidf = matrix.toarray()\n",
    "stars = merged['stars'].values\n",
    "x_train, x_test, y_train, y_test = train_test_split(tfidf, stars, test_size=0.20, random_state=42)\n",
    "checkpointer = ModelCheckpoint(filepath =\"./best_weights.hdf5\", verbose=0, save_best_only=True)\n",
    "\n",
    "model = Sequential()\n",
    "model.add(Dense(30, input_dim = tfidf.shape[1], activation='tanh'))\n",
    "model.add(Dense(20))\n",
    "model.add(Dense(1))\n",
    "model.compile(loss='mean_squared_error', optimizer='sgd')\n",
    "monitor = EarlyStopping(monitor='val_loss', min_delta=1e-3, patience=3, verbose=2, mode='auto')\n",
    "\n",
    "model.fit(x_train, y_train, validation_data=(x_test, y_test), callbacks=[monitor, checkpointer], verbose=2, epochs=1000)\n",
    "\n",
    "print('Training finished...Loading the best model')\n",
    "print()\n",
    "model.load_weights('./best_weights.hdf5')\n",
    "#Predict\n",
    "pred = model.predict(x_test)\n",
    "#RMSE score\n",
    "score = np.sqrt(metrics.mean_squared_error(pred, y_test))\n",
    "print(\"RMSE score: {}\".format(score))\n",
    "\n",
    "model.save(os.path.join(save_path, \"network.hdf5\"))"
   ]
  },
  {
   "cell_type": "code",
   "execution_count": 94,
   "metadata": {},
   "outputs": [
    {
     "data": {
      "image/png": "[encoded data removed]",
      "text/plain": [
       "<Figure size 640x480 with 1 Axes>"
      ]
     },
     "metadata": {},
     "output_type": "display_data"
    }
   ],
   "source": [
    "chart_regression(pred.flatten(),y_test, sort=True)\n"
   ]
  },
  {
   "cell_type": "code",
   "execution_count": 95,
   "metadata": {},
   "outputs": [
    {
     "data": {
      "text/html": [
       "<div>\n",
       "<style scoped>\n",
       "    .dataframe tbody tr th:only-of-type {\n",
       "        vertical-align: middle;\n",
       "    }\n",
       "\n",
       "    .dataframe tbody tr th {\n",
       "        vertical-align: top;\n",
       "    }\n",
       "\n",
       "    .dataframe thead th {\n",
       "        text-align: right;\n",
       "    }\n",
       "</style>\n",
       "<table border=\"1\" class=\"dataframe\">\n",
       "  <thead>\n",
       "    <tr style=\"text-align: right;\">\n",
       "      <th></th>\n",
       "      <th>stars</th>\n",
       "      <th>predicted</th>\n",
       "    </tr>\n",
       "  </thead>\n",
       "  <tbody>\n",
       "    <tr>\n",
       "      <th>0</th>\n",
       "      <td>3.5</td>\n",
       "      <td>2.895272</td>\n",
       "    </tr>\n",
       "    <tr>\n",
       "      <th>1</th>\n",
       "      <td>4.0</td>\n",
       "      <td>4.018091</td>\n",
       "    </tr>\n",
       "    <tr>\n",
       "      <th>2</th>\n",
       "      <td>2.5</td>\n",
       "      <td>2.030661</td>\n",
       "    </tr>\n",
       "    <tr>\n",
       "      <th>3</th>\n",
       "      <td>4.5</td>\n",
       "      <td>2.760025</td>\n",
       "    </tr>\n",
       "    <tr>\n",
       "      <th>4</th>\n",
       "      <td>4.0</td>\n",
       "      <td>3.475945</td>\n",
       "    </tr>\n",
       "  </tbody>\n",
       "</table>\n",
       "</div>"
      ],
      "text/plain": [
       "   stars  predicted\n",
       "0    3.5   2.895272\n",
       "1    4.0   4.018091\n",
       "2    2.5   2.030661\n",
       "3    4.5   2.760025\n",
       "4    4.0   3.475945"
      ]
     },
     "execution_count": 95,
     "metadata": {},
     "output_type": "execute_result"
    }
   ],
   "source": [
    "df_y = pd.DataFrame(merged.stars, columns = ['stars'])\n",
    "df_pred = pd.DataFrame(pred, columns = ['predicted'])\n",
    "df_y.head()\n",
    "result = pd.concat([df_y, df_pred], axis = 1)\n",
    "result.head()"
   ]
  },
  {
   "cell_type": "code",
   "execution_count": null,
   "metadata": {},
   "outputs": [],
   "source": []
  }
 ],
 "metadata": {
  "kernelspec": {
   "display_name": "Python 3 (ipykernel)",
   "language": "python",
   "name": "python3"
  }
 },
 "nbformat": 4,
 "nbformat_minor": 2
}
